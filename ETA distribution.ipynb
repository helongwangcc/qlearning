{
 "cells": [
  {
   "cell_type": "code",
   "execution_count": null,
   "id": "d362ed96",
   "metadata": {},
   "outputs": [],
   "source": [
    "import numpy as np\n",
    "from copy import deepcopy\n",
    "from graph.graph import RectangleGraph\n",
    "from shipmodel.shipModel import shipModel\n",
    "\n",
    "import matplotlib.pyplot as plt\n",
    "import matplotlib.ticker as mtick\n",
    "import matplotlib.ticker as ticker\n",
    "%matplotlib inline"
   ]
  },
  {
   "cell_type": "markdown",
   "id": "ae448071",
   "metadata": {},
   "source": [
    "# Add functions"
   ]
  },
  {
   "cell_type": "code",
   "execution_count": null,
   "id": "a452f0b6",
   "metadata": {},
   "outputs": [],
   "source": [
    "# Calculate estimate of arrival\n",
    "def calculateEta(route, speed, uMatrix, vMatrix):\n",
    "    distance = 1e5\n",
    "    time = 0\n",
    "    for i in range(len(route) - 1):\n",
    "        cu = uMatrix[route[i+1]]\n",
    "        cv = vMatrix[route[i+1]]\n",
    "        if route[i][0] == route[i+1][0]:\n",
    "            if route[i+1][1] - route[i][1] == 1:\n",
    "                angle = 0\n",
    "            else:\n",
    "                angle = 180\n",
    "        elif route[i+1][0] - route[i][0] == 1:\n",
    "            angle = 90\n",
    "        else: \n",
    "            angle = 270\n",
    "        time += distance / shipModel.speedGPS2Water(speed, angle, cu, cv)\n",
    "    return time            "
   ]
  },
  {
   "cell_type": "code",
   "execution_count": null,
   "id": "2d3dc39c",
   "metadata": {},
   "outputs": [],
   "source": [
    "# matrix for weight function in path finding\n",
    "def createMap(uMatrix, vMatrix, shape, num):\n",
    "    return np.sqrt(uMatrix[:,num].reshape(shape) ** 2 + vMatrix[:,num].reshape(shape) ** 2)"
   ]
  },
  {
   "cell_type": "markdown",
   "id": "0c65b839",
   "metadata": {},
   "source": [
    "# Add components"
   ]
  },
  {
   "cell_type": "markdown",
   "id": "5d09d27f",
   "metadata": {},
   "source": [
    "## Create graph"
   ]
  },
  {
   "cell_type": "code",
   "execution_count": null,
   "id": "9a64ad1b",
   "metadata": {},
   "outputs": [],
   "source": [
    "RGraph = RectangleGraph(50, 40)"
   ]
  },
  {
   "cell_type": "markdown",
   "id": "3d603fe0",
   "metadata": {},
   "source": [
    "## Create random current sample\n",
    "CurrentU is current amplitude on horizontal direction (longitude direction)\n",
    "\n",
    "\n",
    "CurrentV is current amplitude on vertical direction (latitude direction)"
   ]
  },
  {
   "cell_type": "code",
   "execution_count": null,
   "id": "1ccefc8f",
   "metadata": {},
   "outputs": [],
   "source": [
    "currentU, Zshape = RGraph.weightSPD(3000)\n",
    "currentV, _ = RGraph.weightSPD(3000)"
   ]
  },
  {
   "cell_type": "markdown",
   "id": "926c332d",
   "metadata": {},
   "source": [
    "## Add obstacle to the graph "
   ]
  },
  {
   "cell_type": "code",
   "execution_count": null,
   "id": "ad536b76",
   "metadata": {},
   "outputs": [],
   "source": [
    "# copy graph in the instance\n",
    "graph = deepcopy(RGraph.graph)\n",
    "# add obstacles\n",
    "obstacles = []\n",
    "obstacles.append(RGraph.addObstacle(graph, (5,5), (10, 10)))    \n",
    "obstacles.append(RGraph.addObstacle(graph, (10,10), (15, 15)))\n",
    "obstacles.append(RGraph.addObstacle(graph, (15,15), (20, 20)))\n",
    "obstacles.append(RGraph.addObstacle(graph, (20,20), (35, 35)))\n",
    "obstacles.append(RGraph.addObstacle(graph, (35,35), (39, 39)))"
   ]
  },
  {
   "cell_type": "markdown",
   "id": "ee9a383e",
   "metadata": {},
   "source": [
    "## Generate one weight function "
   ]
  },
  {
   "cell_type": "code",
   "execution_count": null,
   "id": "7eae1036",
   "metadata": {},
   "outputs": [],
   "source": [
    "colorMap = createMap(currentU, currentV, Zshape, 0)"
   ]
  },
  {
   "cell_type": "markdown",
   "id": "fe6c4333",
   "metadata": {},
   "source": [
    "## Find optimal route based on the above weight function"
   ]
  },
  {
   "cell_type": "code",
   "execution_count": null,
   "id": "709a6fa9",
   "metadata": {},
   "outputs": [],
   "source": [
    "sampleRoute = RGraph.findShortestRoute(graph, (0,0), (34,39), colorMap)"
   ]
  },
  {
   "cell_type": "code",
   "execution_count": null,
   "id": "7937d224",
   "metadata": {},
   "outputs": [],
   "source": [
    "ETA = []\n",
    "speed = 10\n",
    "for i in range(currentU.shape[1]):\n",
    "    cu = currentU[:, i].reshape(Zshape)\n",
    "    cv = currentV[:, i].reshape(Zshape)\n",
    "    ETA.append(calculateEta(sampleRoute, speed, cu, cv) / 3600 )    "
   ]
  },
  {
   "cell_type": "markdown",
   "id": "3a2c293a",
   "metadata": {},
   "source": [
    "# Drawing "
   ]
  },
  {
   "cell_type": "code",
   "execution_count": null,
   "id": "d985708d",
   "metadata": {},
   "outputs": [],
   "source": [
    "@ticker.FuncFormatter\n",
    "def major_formatter(x, pos):\n",
    "    return \"%.1f%%\" % (x * 100)\n",
    "\n",
    "fig = plt.figure(figsize=(15,10))\n",
    "ax = fig.add_subplot(1,1,1)\n",
    "n, bins, patches = ax.hist(\n",
    "    ETA,\n",
    "    25,\n",
    "    density=True,\n",
    "    facecolor='b', \n",
    "    alpha=0.75, \n",
    "    edgecolor='k',\n",
    "    lw = 1\n",
    ")\n",
    "ax.set_title(\"ETA histogram\", fontsize = 20, fontweight='bold')\n",
    "\n",
    "ax.set_xlabel('Travel Hours', fontsize = 18, fontweight='bold')\n",
    "ax.set_ylabel('Probability',fontsize = 18, fontweight='bold')\n",
    "ax.tick_params(labelsize = 15)\n",
    "fmt = '%.0f%%' \n",
    "yticks = mtick.FormatStrFormatter(fmt)\n",
    "ax.yaxis.set_major_formatter(major_formatter)\n",
    "ax.grid(True, alpha = 0.5, ls='-.')\n",
    "plt.show()"
   ]
  },
  {
   "cell_type": "code",
   "execution_count": null,
   "id": "a7b345a4",
   "metadata": {},
   "outputs": [],
   "source": [
    "nodelist = list(graph)\n",
    "xy = np.asarray(nodelist)\n",
    "edgelist = list(graph.edges())"
   ]
  },
  {
   "cell_type": "code",
   "execution_count": null,
   "id": "7d6376c9",
   "metadata": {},
   "outputs": [],
   "source": [
    "fig = plt.figure(figsize=(21,10))\n",
    "\n",
    "ax = fig.add_subplot(1,2,1)\n",
    "ax.set_title(\"Sample weather condition 1\", fontsize = 20, fontweight='bold')\n",
    "ax.scatter(\n",
    "    xy[:, 0],\n",
    "    xy[:, 1],\n",
    "    s=5,\n",
    "    c='k',\n",
    "    marker='o',\n",
    ")\n",
    "\n",
    "for u, v in edgelist:\n",
    "    ax.plot(\n",
    "        [u[0], v[0]], \n",
    "        [u[1], v[1]], \n",
    "        color = 'k', lw = 1)\n",
    "for obstacle in obstacles:\n",
    "    ax.plot(\n",
    "            obstacle[0], \n",
    "            obstacle[1], \n",
    "            color = 'r', lw = 3)\n",
    "xy1 = np.asarray(sampleRoute)\n",
    "ax.plot(xy1[:,0], xy1[:,1], color = 'b', lw=3)\n",
    "ax.scatter(0, 0, s=30,  c='b', marker='o')\n",
    "ax.scatter(34, 39, s=30,  c='b', marker='o')\n",
    "    \n",
    "\n",
    "ax.imshow( currentU[:,1].reshape(Zshape), origin=\"lower\", aspect=\"equal\" ,\n",
    "          extent = ( -0.2,49.1,-0.2,39.2))\n",
    "ax.tick_params(\n",
    "    axis=\"both\",\n",
    "    which=\"both\",\n",
    "    bottom=False,\n",
    "    left=False,\n",
    "    labelbottom=False,\n",
    "    labelleft=False,\n",
    ")\n",
    "##################\n",
    "\n",
    "ax1 = fig.add_subplot(1,2,2)\n",
    "ax1.set_title(\"Sample weather condition 2\", fontsize = 20, fontweight='bold')\n",
    "ax1.scatter(\n",
    "    xy[:, 0],\n",
    "    xy[:, 1],\n",
    "    s=5,\n",
    "    c='k',\n",
    "    marker='o',\n",
    ")\n",
    "\n",
    "for u, v in edgelist:\n",
    "    ax1.plot(\n",
    "        [u[0], v[0]], \n",
    "        [u[1], v[1]], \n",
    "        color = 'k', lw = 1)\n",
    "for obstacle in obstacles:\n",
    "    ax1.plot(\n",
    "            obstacle[0], \n",
    "            obstacle[1], \n",
    "            color = 'r', lw = 3)\n",
    "xy1 = np.asarray(sampleRoute)\n",
    "ax1.plot(xy1[:,0], xy1[:,1], color = 'b', lw=3)\n",
    "ax1.scatter(0, 0, s=30,  c='b', marker='o')\n",
    "ax1.scatter(34, 39, s=30,  c='b', marker='o')\n",
    "    \n",
    "\n",
    "ax1.imshow( currentU[:,2].reshape(Zshape), origin=\"lower\", aspect=\"equal\" ,\n",
    "          extent = ( -0.2,49.1,-0.2,39.2))\n",
    "ax1.tick_params(\n",
    "    axis=\"both\",\n",
    "    which=\"both\",\n",
    "    bottom=False,\n",
    "    left=False,\n",
    "    labelbottom=False,\n",
    "    labelleft=False,\n",
    ")\n",
    "\n",
    "plt.tight_layout()\n",
    "plt.show()"
   ]
  }
 ],
 "metadata": {
  "kernelspec": {
   "display_name": "Python 3",
   "language": "python",
   "name": "python3"
  },
  "language_info": {
   "codemirror_mode": {
    "name": "ipython",
    "version": 3
   },
   "file_extension": ".py",
   "mimetype": "text/x-python",
   "name": "python",
   "nbconvert_exporter": "python",
   "pygments_lexer": "ipython3",
   "version": "3.7.10"
  }
 },
 "nbformat": 4,
 "nbformat_minor": 5
}
